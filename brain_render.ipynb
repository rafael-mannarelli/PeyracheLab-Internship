{
 "cells": [
  {
   "cell_type": "code",
   "execution_count": 6,
   "metadata": {},
   "outputs": [],
   "source": [
    "# Set the backend\n",
    "import vedo\n",
    "vedo.settings.default_backend= 'vtk'\n",
    "\n",
    "# Create a brainrender scene\n",
    "from brainrender import Scene\n",
    "\n",
    "import brainglobe_heatmap as bgh"
   ]
  },
  {
   "cell_type": "code",
   "execution_count": 95,
   "metadata": {},
   "outputs": [],
   "source": [
    "# Create a scene with the 'allen_mouse_10um' atlas\n",
    "scene = Scene(atlas_name='allen_mouse_10um')\n",
    "\n",
    "# Define the Papez circuit components with acronyms, colors, and alpha values\n",
    "papez_circuit = {\n",
    "    'HIP': ('gold', 0.8),    # Hippocampus, deeper in the brain\n",
    "    'fxs': ('deepskyblue', 0.4),  # Fornix, a connecting tract\n",
    "    'MBO': ('lightblue', 0.5),    # Mammillary Bodies\n",
    "    'LM': ('red', 0.9),    # Lateral mammillary nucleus, part of MBO\n",
    "    'MM': ('orange', 0.9),    # Medial mammillary nucleus, part of MBO\n",
    "    'ATN': ('magenta', 0.5),  # Anterior Thalamic Nucleus\n",
    "    'ACA': ('lavender', 0.3),      # Anterior Cingulate Area\n",
    "    'ENT': ('blue', 0.6),     # Entorhinal Cortex, crucial for memory\n",
    "    'SUB': ('yellow', 0.6),   # Subiculum, part of the hippocampal formation\n",
    "    'PVT': ('purple', 0.4)    # Paraventricular nucleus of the thalamus\n",
    "}\n",
    "\n",
    "# Add the entire mouse brain atlas with some transparency\n",
    "scene.add_brain_region('root', alpha=0.05)\n",
    "\n",
    "# Add each component of the Papez circuit with its specific color and alpha\n",
    "for region, (color, alpha) in papez_circuit.items():\n",
    "    scene.add_brain_region(region, alpha=alpha, color=color)\n",
    "\n",
    "\n",
    "# Make sure it gets embedded in the window\n",
    "scene.jupyter = True\n",
    "\n",
    "# Render the scene for interactive visualization\n",
    "scene.render(interactive=True)\n"
   ]
  },
  {
   "cell_type": "code",
   "execution_count": 91,
   "metadata": {},
   "outputs": [],
   "source": [
    "from allensdk.core.mouse_connectivity_cache import MouseConnectivityCache\n",
    "\n",
    "# Initialize the mouse connectivity cache to access the data\n",
    "mcc = MouseConnectivityCache(manifest_file='connectivity/mouse_connectivity_manifest.json')\n",
    "\n",
    "# Replace 'Hippocampus' with other regions as needed (e.g., 'Thalamus')\n",
    "structure_tree = mcc.get_structure_tree()\n",
    "papez_id = structure_tree.get_structures_by_acronym(['HIP', 'fxs', 'MBO', 'ATN', 'ACA', 'ENT', 'SUB', 'PVT'])[0]['id']\n",
    "\n",
    "# Fetch experiments where injections were made into the hippocampus\n",
    "experiments = mcc.get_experiments(injection_structure_ids=[papez_id])\n"
   ]
  },
  {
   "cell_type": "code",
   "execution_count": 8,
   "metadata": {},
   "outputs": [],
   "source": [
    "scene = Scene()\n",
    "dtn = scene.add_brain_region(\"DTN\", color=\"skyblue\", alpha=0.6)"
   ]
  },
  {
   "cell_type": "code",
   "execution_count": 10,
   "metadata": {},
   "outputs": [],
   "source": [
    "scene.slice(\"frontal\")\n",
    "\n",
    "# Adjust the camera for a 2D-like view\n",
    "scene.render(camera=\"top\", zoom=1.2)"
   ]
  }
 ],
 "metadata": {
  "kernelspec": {
   "display_name": "allensdk",
   "language": "python",
   "name": "python3"
  },
  "language_info": {
   "codemirror_mode": {
    "name": "ipython",
    "version": 3
   },
   "file_extension": ".py",
   "mimetype": "text/x-python",
   "name": "python",
   "nbconvert_exporter": "python",
   "pygments_lexer": "ipython3",
   "version": "3.9.18"
  }
 },
 "nbformat": 4,
 "nbformat_minor": 2
}
